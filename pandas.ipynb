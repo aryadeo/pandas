{
  "nbformat": 4,
  "nbformat_minor": 0,
  "metadata": {
    "colab": {
      "name": "pandas.ipynb",
      "provenance": [],
      "collapsed_sections": [],
      "toc_visible": true,
      "include_colab_link": true
    },
    "kernelspec": {
      "name": "python3",
      "display_name": "Python 3"
    }
  },
  "cells": [
    {
      "cell_type": "markdown",
      "metadata": {
        "id": "view-in-github",
        "colab_type": "text"
      },
      "source": [
        "<a href=\"https://colab.research.google.com/github/aryadeo/pandas/blob/master/pandas.ipynb\" target=\"_parent\"><img src=\"https://colab.research.google.com/assets/colab-badge.svg\" alt=\"Open In Colab\"/></a>"
      ]
    },
    {
      "cell_type": "markdown",
      "metadata": {
        "id": "oWp2L0uvrzK0",
        "colab_type": "text"
      },
      "source": [
        "#Basics of Pandas\n",
        "![Pandas Logo](https://drive.google.com/uc?id=1fn6w_q1O1jvFWQB6JlDQVKa6KG7_BG5A)"
      ]
    },
    {
      "cell_type": "markdown",
      "metadata": {
        "id": "nMQemGcautwr",
        "colab_type": "text"
      },
      "source": [
        "Date: 12/11/2019\n",
        "\n",
        "pandas has two primary data structure.\n",
        "1. Series(for 1D data)\n",
        "2. DataFrame(for 2D data)\n",
        "\n",
        "Data Processing can be done in three ways.\n",
        "1. Data munging and cleaning\n",
        "2. Analyzing and modelling the data\n",
        "3. Organizing for sulitable ploting and visualization"
      ]
    },
    {
      "cell_type": "code",
      "metadata": {
        "id": "4TKcZIJqpuaJ",
        "colab_type": "code",
        "colab": {
          "base_uri": "https://localhost:8080/",
          "height": 105
        },
        "outputId": "9a78fa69-9097-400d-91af-2ccc43729991"
      },
      "source": [
        "!pip install pandas"
      ],
      "execution_count": 1,
      "outputs": [
        {
          "output_type": "stream",
          "text": [
            "Requirement already satisfied: pandas in /usr/local/lib/python3.6/dist-packages (0.25.3)\n",
            "Requirement already satisfied: python-dateutil>=2.6.1 in /usr/local/lib/python3.6/dist-packages (from pandas) (2.6.1)\n",
            "Requirement already satisfied: pytz>=2017.2 in /usr/local/lib/python3.6/dist-packages (from pandas) (2018.9)\n",
            "Requirement already satisfied: numpy>=1.13.3 in /usr/local/lib/python3.6/dist-packages (from pandas) (1.17.4)\n",
            "Requirement already satisfied: six>=1.5 in /usr/local/lib/python3.6/dist-packages (from python-dateutil>=2.6.1->pandas) (1.12.0)\n"
          ],
          "name": "stdout"
        }
      ]
    },
    {
      "cell_type": "code",
      "metadata": {
        "id": "4GF8fVx_u-UK",
        "colab_type": "code",
        "colab": {}
      },
      "source": [
        "import numpy as np\n",
        "import pandas as pd\n",
        "import matplotlib.pyplot as plt\n",
        "import seaborn as sns\n",
        "sns.set()"
      ],
      "execution_count": 0,
      "outputs": []
    },
    {
      "cell_type": "markdown",
      "metadata": {
        "id": "7zq83tLTwOxL",
        "colab_type": "text"
      },
      "source": [
        "#Data Structure\n"
      ]
    },
    {
      "cell_type": "markdown",
      "metadata": {
        "id": "dOuBgmNNxoTK",
        "colab_type": "text"
      },
      "source": [
        "##Series-1D \n"
      ]
    },
    {
      "cell_type": "markdown",
      "metadata": {
        "id": "B88kpMmAYMK9",
        "colab_type": "text"
      },
      "source": [
        "A series can be buit from\n",
        "\n",
        "\n",
        "*   np array\n",
        "*   dictionary\n",
        "*   scalar"
      ]
    },
    {
      "cell_type": "code",
      "metadata": {
        "id": "eTmXWCsqzQZl",
        "colab_type": "code",
        "outputId": "323a14b1-1b97-4cbb-95df-57fc1a13e2f8",
        "colab": {
          "base_uri": "https://localhost:8080/",
          "height": 212
        }
      },
      "source": [
        "#series created with auto indexing\n",
        "s_test_1=pd.Series(np.random.rand(10))\n",
        "s_test_1"
      ],
      "execution_count": 3,
      "outputs": [
        {
          "output_type": "execute_result",
          "data": {
            "text/plain": [
              "0    0.171077\n",
              "1    0.644541\n",
              "2    0.731960\n",
              "3    0.394671\n",
              "4    0.951099\n",
              "5    0.167603\n",
              "6    0.736815\n",
              "7    0.398214\n",
              "8    0.789251\n",
              "9    0.565660\n",
              "dtype: float64"
            ]
          },
          "metadata": {
            "tags": []
          },
          "execution_count": 3
        }
      ]
    },
    {
      "cell_type": "code",
      "metadata": {
        "id": "-ojFfbi6wB99",
        "colab_type": "code",
        "outputId": "66a246ac-81b8-488a-8e93-21166c297ed1",
        "colab": {
          "base_uri": "https://localhost:8080/",
          "height": 212
        }
      },
      "source": [
        "#series from numpy with defined indices\n",
        "s_test_2=pd.Series(np.random.randn(10), index=list('ABCDEFGHIJ'))\n",
        "s_test_2"
      ],
      "execution_count": 4,
      "outputs": [
        {
          "output_type": "execute_result",
          "data": {
            "text/plain": [
              "A   -2.914286\n",
              "B    0.742177\n",
              "C    0.106850\n",
              "D    0.043703\n",
              "E    0.440833\n",
              "F   -1.093644\n",
              "G   -0.984647\n",
              "H   -0.580268\n",
              "I   -1.827252\n",
              "J    0.197933\n",
              "dtype: float64"
            ]
          },
          "metadata": {
            "tags": []
          },
          "execution_count": 4
        }
      ]
    },
    {
      "cell_type": "code",
      "metadata": {
        "id": "lh_raQRpx-KA",
        "colab_type": "code",
        "outputId": "952ae996-100b-41c6-8b9a-cce7985b92ea",
        "colab": {
          "base_uri": "https://localhost:8080/",
          "height": 123
        }
      },
      "source": [
        "#series from scalar with defined indices\n",
        "s_test_3=pd.Series(55.55,index=[m for m in range(5)])\n",
        "s_test_3"
      ],
      "execution_count": 5,
      "outputs": [
        {
          "output_type": "execute_result",
          "data": {
            "text/plain": [
              "0    55.55\n",
              "1    55.55\n",
              "2    55.55\n",
              "3    55.55\n",
              "4    55.55\n",
              "dtype: float64"
            ]
          },
          "metadata": {
            "tags": []
          },
          "execution_count": 5
        }
      ]
    },
    {
      "cell_type": "code",
      "metadata": {
        "id": "3iU_KpZY0QZF",
        "colab_type": "code",
        "outputId": "02d46075-b90e-45bd-836a-e72bbb2248a3",
        "colab": {
          "base_uri": "https://localhost:8080/",
          "height": 70
        }
      },
      "source": [
        "#Series in dict form\n",
        "s_test_4=pd.Series({'a':1,'b':2})\n",
        "s_test_4"
      ],
      "execution_count": 6,
      "outputs": [
        {
          "output_type": "execute_result",
          "data": {
            "text/plain": [
              "a    1\n",
              "b    2\n",
              "dtype: int64"
            ]
          },
          "metadata": {
            "tags": []
          },
          "execution_count": 6
        }
      ]
    },
    {
      "cell_type": "markdown",
      "metadata": {
        "id": "UgRhPrSE1rFl",
        "colab_type": "text"
      },
      "source": [
        "operations in a series\n"
      ]
    },
    {
      "cell_type": "code",
      "metadata": {
        "id": "RqtCQwL81H9t",
        "colab_type": "code",
        "outputId": "736604ee-9779-4502-f729-454eeee53d6b",
        "colab": {
          "base_uri": "https://localhost:8080/",
          "height": 70
        }
      },
      "source": [
        "print(s_test_1.index)\n",
        "print(s_test_2.index)\n",
        "print(s_test_3.index)\n",
        "#it can be seen that auto indexing and defined indices are printed in different ways."
      ],
      "execution_count": 7,
      "outputs": [
        {
          "output_type": "stream",
          "text": [
            "RangeIndex(start=0, stop=10, step=1)\n",
            "Index(['A', 'B', 'C', 'D', 'E', 'F', 'G', 'H', 'I', 'J'], dtype='object')\n",
            "Int64Index([0, 1, 2, 3, 4], dtype='int64')\n"
          ],
          "name": "stdout"
        }
      ]
    },
    {
      "cell_type": "code",
      "metadata": {
        "id": "_ZOHEKcq2TeM",
        "colab_type": "code",
        "outputId": "76694d81-bf94-4323-e477-acf120b6cc36",
        "colab": {
          "base_uri": "https://localhost:8080/",
          "height": 621
        }
      },
      "source": [
        "#series is similar to nD array/numpy array\n",
        "print(s_test_1[0])\n",
        "print(s_test_1[2:])\n",
        "print(s_test_1[:5])\n",
        "print(s_test_1[:])\n",
        "print(s_test_1[s_test_1 > s_test_1.mean()])"
      ],
      "execution_count": 8,
      "outputs": [
        {
          "output_type": "stream",
          "text": [
            "0.1710769500278454\n",
            "2    0.731960\n",
            "3    0.394671\n",
            "4    0.951099\n",
            "5    0.167603\n",
            "6    0.736815\n",
            "7    0.398214\n",
            "8    0.789251\n",
            "9    0.565660\n",
            "dtype: float64\n",
            "0    0.171077\n",
            "1    0.644541\n",
            "2    0.731960\n",
            "3    0.394671\n",
            "4    0.951099\n",
            "dtype: float64\n",
            "0    0.171077\n",
            "1    0.644541\n",
            "2    0.731960\n",
            "3    0.394671\n",
            "4    0.951099\n",
            "5    0.167603\n",
            "6    0.736815\n",
            "7    0.398214\n",
            "8    0.789251\n",
            "9    0.565660\n",
            "dtype: float64\n",
            "1    0.644541\n",
            "2    0.731960\n",
            "4    0.951099\n",
            "6    0.736815\n",
            "8    0.789251\n",
            "9    0.565660\n",
            "dtype: float64\n"
          ],
          "name": "stdout"
        }
      ]
    },
    {
      "cell_type": "code",
      "metadata": {
        "id": "D9J8V9Xm2yDe",
        "colab_type": "code",
        "outputId": "d862fc07-5838-49aa-cac0-2f4f7394f403",
        "colab": {
          "base_uri": "https://localhost:8080/",
          "height": 34
        }
      },
      "source": [
        "#to know the datatype of a series\n",
        "s_test_1.dtype"
      ],
      "execution_count": 9,
      "outputs": [
        {
          "output_type": "execute_result",
          "data": {
            "text/plain": [
              "dtype('float64')"
            ]
          },
          "metadata": {
            "tags": []
          },
          "execution_count": 9
        }
      ]
    },
    {
      "cell_type": "code",
      "metadata": {
        "id": "hJE8q9Sp3MZ9",
        "colab_type": "code",
        "outputId": "96e8e687-5c8a-4a94-cf37-112844d1314c",
        "colab": {
          "base_uri": "https://localhost:8080/",
          "height": 52
        }
      },
      "source": [
        "#converting series to array----should be approached everytime\n",
        "s_test_1.to_numpy()"
      ],
      "execution_count": 10,
      "outputs": [
        {
          "output_type": "execute_result",
          "data": {
            "text/plain": [
              "array([0.17107695, 0.64454101, 0.73195964, 0.39467148, 0.95109922,\n",
              "       0.16760268, 0.73681526, 0.39821441, 0.78925079, 0.56566002])"
            ]
          },
          "metadata": {
            "tags": []
          },
          "execution_count": 10
        }
      ]
    },
    {
      "cell_type": "code",
      "metadata": {
        "id": "ECD3EMIk5PcO",
        "colab_type": "code",
        "outputId": "e601e27c-6ebd-4a1f-877d-58dd211b287b",
        "colab": {
          "base_uri": "https://localhost:8080/",
          "height": 123
        }
      },
      "source": [
        "#alternative way to get the array backing the series\n",
        "s_test_1.array"
      ],
      "execution_count": 11,
      "outputs": [
        {
          "output_type": "execute_result",
          "data": {
            "text/plain": [
              "<PandasArray>\n",
              "[ 0.1710769500278454,  0.6445410146820336,   0.731959638176053,\n",
              " 0.39467147821850057,  0.9510992239308719, 0.16760267995197298,\n",
              "  0.7368152560641101,  0.3982144098322967,  0.7892507934617525,\n",
              "  0.5656600164773486]\n",
              "Length: 10, dtype: float64"
            ]
          },
          "metadata": {
            "tags": []
          },
          "execution_count": 11
        }
      ]
    },
    {
      "cell_type": "code",
      "metadata": {
        "id": "XOW5Gdf68bdR",
        "colab_type": "code",
        "outputId": "43679dc3-b7b7-488d-8f22-7ae9435d0faa",
        "colab": {
          "base_uri": "https://localhost:8080/",
          "height": 212
        }
      },
      "source": [
        "s_test_1+s_test_1"
      ],
      "execution_count": 12,
      "outputs": [
        {
          "output_type": "execute_result",
          "data": {
            "text/plain": [
              "0    0.342154\n",
              "1    1.289082\n",
              "2    1.463919\n",
              "3    0.789343\n",
              "4    1.902198\n",
              "5    0.335205\n",
              "6    1.473631\n",
              "7    0.796429\n",
              "8    1.578502\n",
              "9    1.131320\n",
              "dtype: float64"
            ]
          },
          "metadata": {
            "tags": []
          },
          "execution_count": 12
        }
      ]
    },
    {
      "cell_type": "code",
      "metadata": {
        "id": "oyDNPs1G8foA",
        "colab_type": "code",
        "outputId": "f696329a-fdbe-41d8-bd02-2525384d395e",
        "colab": {
          "base_uri": "https://localhost:8080/",
          "height": 212
        }
      },
      "source": [
        "np.exp(s_test_1)"
      ],
      "execution_count": 13,
      "outputs": [
        {
          "output_type": "execute_result",
          "data": {
            "text/plain": [
              "0    1.186582\n",
              "1    1.905112\n",
              "2    2.079151\n",
              "3    1.483897\n",
              "4    2.588553\n",
              "5    1.182467\n",
              "6    2.089271\n",
              "7    1.489163\n",
              "8    2.201746\n",
              "9    1.760609\n",
              "dtype: float64"
            ]
          },
          "metadata": {
            "tags": []
          },
          "execution_count": 13
        }
      ]
    },
    {
      "cell_type": "code",
      "metadata": {
        "id": "PdmnfdPE5uzv",
        "colab_type": "code",
        "outputId": "7624ec8e-6cf9-4f05-f422-adbfcb3cc91d",
        "colab": {
          "base_uri": "https://localhost:8080/",
          "height": 105
        }
      },
      "source": [
        "#dictionary operation  in series\n",
        "print(s_test_2['B'])\n",
        "print(s_test_2['C'])\n",
        "print('K'in s_test_2)\n",
        "print('F'in s_test_2)\n",
        "print(s_test_2['D'])"
      ],
      "execution_count": 14,
      "outputs": [
        {
          "output_type": "stream",
          "text": [
            "0.742177236547588\n",
            "0.10685020051376777\n",
            "False\n",
            "True\n",
            "0.04370261134018886\n"
          ],
          "name": "stdout"
        }
      ]
    },
    {
      "cell_type": "code",
      "metadata": {
        "id": "_9ZGpdnm6FCO",
        "colab_type": "code",
        "colab": {}
      },
      "source": [
        "#giving a name to the series\n",
        "s_test_1.name='XYZ'"
      ],
      "execution_count": 0,
      "outputs": []
    },
    {
      "cell_type": "code",
      "metadata": {
        "id": "1VvwzPXdDF5I",
        "colab_type": "code",
        "outputId": "36e7bcda-3407-4ba7-b158-a00998ef1a01",
        "colab": {
          "base_uri": "https://localhost:8080/",
          "height": 34
        }
      },
      "source": [
        "print(s_test_1.name)"
      ],
      "execution_count": 16,
      "outputs": [
        {
          "output_type": "stream",
          "text": [
            "XYZ\n"
          ],
          "name": "stdout"
        }
      ]
    },
    {
      "cell_type": "code",
      "metadata": {
        "id": "L82Z6NhEDJzR",
        "colab_type": "code",
        "colab": {}
      },
      "source": [
        "s_test_1_new=s_test_1.rename('ABC')"
      ],
      "execution_count": 0,
      "outputs": []
    },
    {
      "cell_type": "code",
      "metadata": {
        "id": "9tA4TBldEDUy",
        "colab_type": "code",
        "outputId": "3c6575e0-7915-4b59-d98b-153f0449cbaa",
        "colab": {
          "base_uri": "https://localhost:8080/",
          "height": 212
        }
      },
      "source": [
        "s_test_1_new"
      ],
      "execution_count": 18,
      "outputs": [
        {
          "output_type": "execute_result",
          "data": {
            "text/plain": [
              "0    0.171077\n",
              "1    0.644541\n",
              "2    0.731960\n",
              "3    0.394671\n",
              "4    0.951099\n",
              "5    0.167603\n",
              "6    0.736815\n",
              "7    0.398214\n",
              "8    0.789251\n",
              "9    0.565660\n",
              "Name: ABC, dtype: float64"
            ]
          },
          "metadata": {
            "tags": []
          },
          "execution_count": 18
        }
      ]
    },
    {
      "cell_type": "code",
      "metadata": {
        "id": "qq67goPCEPzz",
        "colab_type": "code",
        "outputId": "bc140033-de0d-44fe-a88b-2f6962a21aa6",
        "colab": {
          "base_uri": "https://localhost:8080/",
          "height": 212
        }
      },
      "source": [
        "s_test_1"
      ],
      "execution_count": 19,
      "outputs": [
        {
          "output_type": "execute_result",
          "data": {
            "text/plain": [
              "0    0.171077\n",
              "1    0.644541\n",
              "2    0.731960\n",
              "3    0.394671\n",
              "4    0.951099\n",
              "5    0.167603\n",
              "6    0.736815\n",
              "7    0.398214\n",
              "8    0.789251\n",
              "9    0.565660\n",
              "Name: XYZ, dtype: float64"
            ]
          },
          "metadata": {
            "tags": []
          },
          "execution_count": 19
        }
      ]
    },
    {
      "cell_type": "markdown",
      "metadata": {
        "id": "FZ4w4DqlMObf",
        "colab_type": "text"
      },
      "source": [
        "##Data Frame"
      ]
    },
    {
      "cell_type": "markdown",
      "metadata": {
        "id": "YobKCymwKrx_",
        "colab_type": "text"
      },
      "source": [
        "Data Frames are 2D data structure with columns are f different/same datatypes.\n",
        "It takes data in the form of dictionary/ array of numbers/ series/ another data frame."
      ]
    },
    {
      "cell_type": "markdown",
      "metadata": {
        "id": "6PRc2G1mY6V3",
        "colab_type": "text"
      },
      "source": [
        "###From dict of series"
      ]
    },
    {
      "cell_type": "code",
      "metadata": {
        "id": "25kSS7QfEo9j",
        "colab_type": "code",
        "outputId": "4dc429d3-b0aa-4945-efae-c424fb751b4c",
        "colab": {
          "base_uri": "https://localhost:8080/",
          "height": 283
        }
      },
      "source": [
        "#the dataframe creates NaN for indices not defined in a series.\n",
        "test_data={'one': pd.Series([10.,9,3,2],index=['a','b','c','d']),\n",
        "           'two':pd.Series(np.random.rand(10),index=[m for m in range(10)])}\n",
        "df_test=pd.DataFrame(test_data)\n",
        "print(df_test)\n",
        "#here you can see that for a,b,c,d indices the second column is NaN and for remaning indices the first column is showing NaN. "
      ],
      "execution_count": 20,
      "outputs": [
        {
          "output_type": "stream",
          "text": [
            "    one       two\n",
            "a  10.0       NaN\n",
            "b   9.0       NaN\n",
            "c   3.0       NaN\n",
            "d   2.0       NaN\n",
            "0   NaN  0.718794\n",
            "1   NaN  0.390537\n",
            "2   NaN  0.443889\n",
            "3   NaN  0.962315\n",
            "4   NaN  0.239685\n",
            "5   NaN  0.745077\n",
            "6   NaN  0.514985\n",
            "7   NaN  0.437120\n",
            "8   NaN  0.365648\n",
            "9   NaN  0.998187\n"
          ],
          "name": "stdout"
        }
      ]
    },
    {
      "cell_type": "code",
      "metadata": {
        "id": "OsdjaFfQs3fQ",
        "colab_type": "code",
        "colab": {
          "base_uri": "https://localhost:8080/",
          "height": 212
        },
        "outputId": "c1e05e33-fc5e-4159-a2c7-34d3b5a472d6"
      },
      "source": [
        "test_data_1={'A': pd.Series(np.random.rand(10),index=[m for m in range(10)]),\n",
        "             'B': pd.Series([1,2,3,4,5,6,7,8,9,10])}\n",
        "df_test_1=pd.DataFrame(test_data_1)\n",
        "print(df_test_1)"
      ],
      "execution_count": 21,
      "outputs": [
        {
          "output_type": "stream",
          "text": [
            "          A   B\n",
            "0  0.146206   1\n",
            "1  0.234788   2\n",
            "2  0.061640   3\n",
            "3  0.825357   4\n",
            "4  0.999384   5\n",
            "5  0.031030   6\n",
            "6  0.086095   7\n",
            "7  0.486120   8\n",
            "8  0.767250   9\n",
            "9  0.784934  10\n"
          ],
          "name": "stdout"
        }
      ]
    },
    {
      "cell_type": "markdown",
      "metadata": {
        "id": "KyazonQSZKZV",
        "colab_type": "text"
      },
      "source": [
        "###From dict of array"
      ]
    },
    {
      "cell_type": "code",
      "metadata": {
        "id": "sMSu6BPDNqIP",
        "colab_type": "code",
        "colab": {
          "base_uri": "https://localhost:8080/",
          "height": 123
        },
        "outputId": "6b296c68-5247-4aad-8fe2-d621e46e7824"
      },
      "source": [
        "test_data_2={'column_1':[11.,22.,33.,44.,55.],\n",
        "             'column_2':[1.,2.,3.,4.,5.]}\n",
        "df_test_2=pd.DataFrame(test_data_2)\n",
        "print(df_test_2)"
      ],
      "execution_count": 22,
      "outputs": [
        {
          "output_type": "stream",
          "text": [
            "   column_1  column_2\n",
            "0      11.0       1.0\n",
            "1      22.0       2.0\n",
            "2      33.0       3.0\n",
            "3      44.0       4.0\n",
            "4      55.0       5.0\n"
          ],
          "name": "stdout"
        }
      ]
    },
    {
      "cell_type": "code",
      "metadata": {
        "id": "uiVL7vOFPP30",
        "colab_type": "code",
        "colab": {
          "base_uri": "https://localhost:8080/",
          "height": 197
        },
        "outputId": "61b570ec-06af-415b-e0a1-8983317926f4"
      },
      "source": [
        "#this data frame has no index. We can inser index to every row.\n",
        "pd.DataFrame(df_test_2,index=['a','b','c','d','e'])\n",
        "#Here it is searching for the given index in an already stored dataframe df_test_2"
      ],
      "execution_count": 23,
      "outputs": [
        {
          "output_type": "execute_result",
          "data": {
            "text/html": [
              "<div>\n",
              "<style scoped>\n",
              "    .dataframe tbody tr th:only-of-type {\n",
              "        vertical-align: middle;\n",
              "    }\n",
              "\n",
              "    .dataframe tbody tr th {\n",
              "        vertical-align: top;\n",
              "    }\n",
              "\n",
              "    .dataframe thead th {\n",
              "        text-align: right;\n",
              "    }\n",
              "</style>\n",
              "<table border=\"1\" class=\"dataframe\">\n",
              "  <thead>\n",
              "    <tr style=\"text-align: right;\">\n",
              "      <th></th>\n",
              "      <th>column_1</th>\n",
              "      <th>column_2</th>\n",
              "    </tr>\n",
              "  </thead>\n",
              "  <tbody>\n",
              "    <tr>\n",
              "      <th>a</th>\n",
              "      <td>NaN</td>\n",
              "      <td>NaN</td>\n",
              "    </tr>\n",
              "    <tr>\n",
              "      <th>b</th>\n",
              "      <td>NaN</td>\n",
              "      <td>NaN</td>\n",
              "    </tr>\n",
              "    <tr>\n",
              "      <th>c</th>\n",
              "      <td>NaN</td>\n",
              "      <td>NaN</td>\n",
              "    </tr>\n",
              "    <tr>\n",
              "      <th>d</th>\n",
              "      <td>NaN</td>\n",
              "      <td>NaN</td>\n",
              "    </tr>\n",
              "    <tr>\n",
              "      <th>e</th>\n",
              "      <td>NaN</td>\n",
              "      <td>NaN</td>\n",
              "    </tr>\n",
              "  </tbody>\n",
              "</table>\n",
              "</div>"
            ],
            "text/plain": [
              "   column_1  column_2\n",
              "a       NaN       NaN\n",
              "b       NaN       NaN\n",
              "c       NaN       NaN\n",
              "d       NaN       NaN\n",
              "e       NaN       NaN"
            ]
          },
          "metadata": {
            "tags": []
          },
          "execution_count": 23
        }
      ]
    },
    {
      "cell_type": "code",
      "metadata": {
        "id": "Gw4CotWbQDDD",
        "colab_type": "code",
        "colab": {
          "base_uri": "https://localhost:8080/",
          "height": 167
        },
        "outputId": "863b315c-ff60-4c8f-9582-718f80d20b82"
      },
      "source": [
        "#Now lets check the same external indexing by without storing a dataframe into a variable.\n",
        "d = {'one': [1., 2., 3., 4.],\n",
        "     'two': [4, 30, 2, 1]}\n",
        "pd.DataFrame(d)"
      ],
      "execution_count": 24,
      "outputs": [
        {
          "output_type": "execute_result",
          "data": {
            "text/html": [
              "<div>\n",
              "<style scoped>\n",
              "    .dataframe tbody tr th:only-of-type {\n",
              "        vertical-align: middle;\n",
              "    }\n",
              "\n",
              "    .dataframe tbody tr th {\n",
              "        vertical-align: top;\n",
              "    }\n",
              "\n",
              "    .dataframe thead th {\n",
              "        text-align: right;\n",
              "    }\n",
              "</style>\n",
              "<table border=\"1\" class=\"dataframe\">\n",
              "  <thead>\n",
              "    <tr style=\"text-align: right;\">\n",
              "      <th></th>\n",
              "      <th>one</th>\n",
              "      <th>two</th>\n",
              "    </tr>\n",
              "  </thead>\n",
              "  <tbody>\n",
              "    <tr>\n",
              "      <th>0</th>\n",
              "      <td>1.0</td>\n",
              "      <td>4</td>\n",
              "    </tr>\n",
              "    <tr>\n",
              "      <th>1</th>\n",
              "      <td>2.0</td>\n",
              "      <td>30</td>\n",
              "    </tr>\n",
              "    <tr>\n",
              "      <th>2</th>\n",
              "      <td>3.0</td>\n",
              "      <td>2</td>\n",
              "    </tr>\n",
              "    <tr>\n",
              "      <th>3</th>\n",
              "      <td>4.0</td>\n",
              "      <td>1</td>\n",
              "    </tr>\n",
              "  </tbody>\n",
              "</table>\n",
              "</div>"
            ],
            "text/plain": [
              "   one  two\n",
              "0  1.0    4\n",
              "1  2.0   30\n",
              "2  3.0    2\n",
              "3  4.0    1"
            ]
          },
          "metadata": {
            "tags": []
          },
          "execution_count": 24
        }
      ]
    },
    {
      "cell_type": "code",
      "metadata": {
        "id": "DozlYretQ23d",
        "colab_type": "code",
        "colab": {
          "base_uri": "https://localhost:8080/",
          "height": 167
        },
        "outputId": "1a3928cd-9073-4de8-e9e3-61073d3ab255"
      },
      "source": [
        "pd.DataFrame(d, index=['a', 'b', 'c', 'd'])\n",
        "#it can be seen that as the dataframe is not stored to a variable, it index names are getting changed."
      ],
      "execution_count": 25,
      "outputs": [
        {
          "output_type": "execute_result",
          "data": {
            "text/html": [
              "<div>\n",
              "<style scoped>\n",
              "    .dataframe tbody tr th:only-of-type {\n",
              "        vertical-align: middle;\n",
              "    }\n",
              "\n",
              "    .dataframe tbody tr th {\n",
              "        vertical-align: top;\n",
              "    }\n",
              "\n",
              "    .dataframe thead th {\n",
              "        text-align: right;\n",
              "    }\n",
              "</style>\n",
              "<table border=\"1\" class=\"dataframe\">\n",
              "  <thead>\n",
              "    <tr style=\"text-align: right;\">\n",
              "      <th></th>\n",
              "      <th>one</th>\n",
              "      <th>two</th>\n",
              "    </tr>\n",
              "  </thead>\n",
              "  <tbody>\n",
              "    <tr>\n",
              "      <th>a</th>\n",
              "      <td>1.0</td>\n",
              "      <td>4</td>\n",
              "    </tr>\n",
              "    <tr>\n",
              "      <th>b</th>\n",
              "      <td>2.0</td>\n",
              "      <td>30</td>\n",
              "    </tr>\n",
              "    <tr>\n",
              "      <th>c</th>\n",
              "      <td>3.0</td>\n",
              "      <td>2</td>\n",
              "    </tr>\n",
              "    <tr>\n",
              "      <th>d</th>\n",
              "      <td>4.0</td>\n",
              "      <td>1</td>\n",
              "    </tr>\n",
              "  </tbody>\n",
              "</table>\n",
              "</div>"
            ],
            "text/plain": [
              "   one  two\n",
              "a  1.0    4\n",
              "b  2.0   30\n",
              "c  3.0    2\n",
              "d  4.0    1"
            ]
          },
          "metadata": {
            "tags": []
          },
          "execution_count": 25
        }
      ]
    },
    {
      "cell_type": "markdown",
      "metadata": {
        "id": "D9g118YvZPil",
        "colab_type": "text"
      },
      "source": [
        "###From list of dicts"
      ]
    },
    {
      "cell_type": "code",
      "metadata": {
        "id": "NKYnjK3tQ7Ld",
        "colab_type": "code",
        "colab": {
          "base_uri": "https://localhost:8080/",
          "height": 107
        },
        "outputId": "2d8267d1-4608-458b-813b-0385e46c3f9e"
      },
      "source": [
        "test_list=[{'one':1,'two':2,'three':3},{'a':4,'b':5,'one':10}]\n",
        "pd.DataFrame(test_list)"
      ],
      "execution_count": 26,
      "outputs": [
        {
          "output_type": "execute_result",
          "data": {
            "text/html": [
              "<div>\n",
              "<style scoped>\n",
              "    .dataframe tbody tr th:only-of-type {\n",
              "        vertical-align: middle;\n",
              "    }\n",
              "\n",
              "    .dataframe tbody tr th {\n",
              "        vertical-align: top;\n",
              "    }\n",
              "\n",
              "    .dataframe thead th {\n",
              "        text-align: right;\n",
              "    }\n",
              "</style>\n",
              "<table border=\"1\" class=\"dataframe\">\n",
              "  <thead>\n",
              "    <tr style=\"text-align: right;\">\n",
              "      <th></th>\n",
              "      <th>one</th>\n",
              "      <th>two</th>\n",
              "      <th>three</th>\n",
              "      <th>a</th>\n",
              "      <th>b</th>\n",
              "    </tr>\n",
              "  </thead>\n",
              "  <tbody>\n",
              "    <tr>\n",
              "      <th>0</th>\n",
              "      <td>1</td>\n",
              "      <td>2.0</td>\n",
              "      <td>3.0</td>\n",
              "      <td>NaN</td>\n",
              "      <td>NaN</td>\n",
              "    </tr>\n",
              "    <tr>\n",
              "      <th>1</th>\n",
              "      <td>10</td>\n",
              "      <td>NaN</td>\n",
              "      <td>NaN</td>\n",
              "      <td>4.0</td>\n",
              "      <td>5.0</td>\n",
              "    </tr>\n",
              "  </tbody>\n",
              "</table>\n",
              "</div>"
            ],
            "text/plain": [
              "   one  two  three    a    b\n",
              "0    1  2.0    3.0  NaN  NaN\n",
              "1   10  NaN    NaN  4.0  5.0"
            ]
          },
          "metadata": {
            "tags": []
          },
          "execution_count": 26
        }
      ]
    },
    {
      "cell_type": "markdown",
      "metadata": {
        "id": "R3gojoVRlZsC",
        "colab_type": "text"
      },
      "source": [
        "###other operations"
      ]
    },
    {
      "cell_type": "code",
      "metadata": {
        "id": "ZSpT_f2LZ9Sd",
        "colab_type": "code",
        "colab": {
          "base_uri": "https://localhost:8080/",
          "height": 70
        },
        "outputId": "712666c8-74df-4962-dce7-961552f61463"
      },
      "source": [
        "#adding index to te dataframe\n",
        "df_test_3=pd.DataFrame(test_list,index=['first set','second set'])\n",
        "print(df_test_3)"
      ],
      "execution_count": 27,
      "outputs": [
        {
          "output_type": "stream",
          "text": [
            "            one  two  three    a    b\n",
            "first set     1  2.0    3.0  NaN  NaN\n",
            "second set   10  NaN    NaN  4.0  5.0\n"
          ],
          "name": "stdout"
        }
      ]
    },
    {
      "cell_type": "code",
      "metadata": {
        "id": "PlyZJgF3afJc",
        "colab_type": "code",
        "colab": {
          "base_uri": "https://localhost:8080/",
          "height": 107
        },
        "outputId": "8bd0ff74-93eb-4c26-ace3-097997392418"
      },
      "source": [
        "#to extract a particular column\n",
        "pd.DataFrame(test_list,columns=['one','two'])"
      ],
      "execution_count": 28,
      "outputs": [
        {
          "output_type": "execute_result",
          "data": {
            "text/html": [
              "<div>\n",
              "<style scoped>\n",
              "    .dataframe tbody tr th:only-of-type {\n",
              "        vertical-align: middle;\n",
              "    }\n",
              "\n",
              "    .dataframe tbody tr th {\n",
              "        vertical-align: top;\n",
              "    }\n",
              "\n",
              "    .dataframe thead th {\n",
              "        text-align: right;\n",
              "    }\n",
              "</style>\n",
              "<table border=\"1\" class=\"dataframe\">\n",
              "  <thead>\n",
              "    <tr style=\"text-align: right;\">\n",
              "      <th></th>\n",
              "      <th>one</th>\n",
              "      <th>two</th>\n",
              "    </tr>\n",
              "  </thead>\n",
              "  <tbody>\n",
              "    <tr>\n",
              "      <th>0</th>\n",
              "      <td>1</td>\n",
              "      <td>2.0</td>\n",
              "    </tr>\n",
              "    <tr>\n",
              "      <th>1</th>\n",
              "      <td>10</td>\n",
              "      <td>NaN</td>\n",
              "    </tr>\n",
              "  </tbody>\n",
              "</table>\n",
              "</div>"
            ],
            "text/plain": [
              "   one  two\n",
              "0    1  2.0\n",
              "1   10  NaN"
            ]
          },
          "metadata": {
            "tags": []
          },
          "execution_count": 28
        }
      ]
    },
    {
      "cell_type": "code",
      "metadata": {
        "id": "8QSxSiuwa4qN",
        "colab_type": "code",
        "colab": {
          "base_uri": "https://localhost:8080/",
          "height": 52
        },
        "outputId": "79c1a8f6-703b-44c1-93c6-380df2e72eec"
      },
      "source": [
        "#extracting a particular index and columns in a dataframe.\n",
        "print(df_test_3[:1]['one'])"
      ],
      "execution_count": 29,
      "outputs": [
        {
          "output_type": "stream",
          "text": [
            "first set    1\n",
            "Name: one, dtype: int64\n"
          ],
          "name": "stdout"
        }
      ]
    },
    {
      "cell_type": "code",
      "metadata": {
        "id": "mfyXaC2AbH5z",
        "colab_type": "code",
        "colab": {
          "base_uri": "https://localhost:8080/",
          "height": 70
        },
        "outputId": "1bdfd0c0-988c-4e0f-f232-0e54efc735d0"
      },
      "source": [
        "#deleting and popping up\n",
        "del df_test_3['one']\n",
        "print(df_test_3)"
      ],
      "execution_count": 30,
      "outputs": [
        {
          "output_type": "stream",
          "text": [
            "            two  three    a    b\n",
            "first set   2.0    3.0  NaN  NaN\n",
            "second set  NaN    NaN  4.0  5.0\n"
          ],
          "name": "stdout"
        }
      ]
    },
    {
      "cell_type": "code",
      "metadata": {
        "id": "nHedxzyFmSlT",
        "colab_type": "code",
        "colab": {
          "base_uri": "https://localhost:8080/",
          "height": 70
        },
        "outputId": "b2fca268-bcf0-4213-db0a-4ea805577a2f"
      },
      "source": [
        "#deleting and popping up\n",
        "df_test_3.pop('b')\n",
        "print(df_test_3)"
      ],
      "execution_count": 31,
      "outputs": [
        {
          "output_type": "stream",
          "text": [
            "            two  three    a\n",
            "first set   2.0    3.0  NaN\n",
            "second set  NaN    NaN  4.0\n"
          ],
          "name": "stdout"
        }
      ]
    },
    {
      "cell_type": "code",
      "metadata": {
        "id": "__DBCM3Qmw1u",
        "colab_type": "code",
        "colab": {
          "base_uri": "https://localhost:8080/",
          "height": 70
        },
        "outputId": "ed70ea8c-2b1b-48d8-f1b4-db741adf24e8"
      },
      "source": [
        "#When inserting a scalar value, it will naturally be propagated to fill the column:\n",
        "df_test_3['new_column']='any scalar value'\n",
        "print(df_test_3)"
      ],
      "execution_count": 32,
      "outputs": [
        {
          "output_type": "stream",
          "text": [
            "            two  three    a        new_column\n",
            "first set   2.0    3.0  NaN  any scalar value\n",
            "second set  NaN    NaN  4.0  any scalar value\n"
          ],
          "name": "stdout"
        }
      ]
    },
    {
      "cell_type": "markdown",
      "metadata": {
        "id": "9U1kptiQoV9F",
        "colab_type": "text"
      },
      "source": [
        "by default new column will be inserted to the end of the dataframe. But by using 'insert' command we can insert a column at any position in a dataframe."
      ]
    },
    {
      "cell_type": "code",
      "metadata": {
        "id": "CsbmmeYSniDC",
        "colab_type": "code",
        "colab": {
          "base_uri": "https://localhost:8080/",
          "height": 70
        },
        "outputId": "c1579652-9016-4710-ef1d-7f8fc9231bad"
      },
      "source": [
        "df_test_3['n_c_1']=df_test_3['two']\n",
        "print(df_test_3)\n",
        "#here we are adding a new column to the existing dataframe with values copied from the 'two' column. "
      ],
      "execution_count": 33,
      "outputs": [
        {
          "output_type": "stream",
          "text": [
            "            two  three    a        new_column  n_c_1\n",
            "first set   2.0    3.0  NaN  any scalar value    2.0\n",
            "second set  NaN    NaN  4.0  any scalar value    NaN\n"
          ],
          "name": "stdout"
        }
      ]
    },
    {
      "cell_type": "code",
      "metadata": {
        "id": "_Pux1IvOo1B0",
        "colab_type": "code",
        "colab": {
          "base_uri": "https://localhost:8080/",
          "height": 70
        },
        "outputId": "a4272f9d-5097-4991-ad18-239a922df429"
      },
      "source": [
        "df_test_3.insert(3,'inserted_column',[300,400])\n",
        "print(df_test_3)"
      ],
      "execution_count": 34,
      "outputs": [
        {
          "output_type": "stream",
          "text": [
            "            two  three    a  inserted_column        new_column  n_c_1\n",
            "first set   2.0    3.0  NaN              300  any scalar value    2.0\n",
            "second set  NaN    NaN  4.0              400  any scalar value    NaN\n"
          ],
          "name": "stdout"
        }
      ]
    },
    {
      "cell_type": "markdown",
      "metadata": {
        "id": "vWGw2GUTyoz6",
        "colab_type": "text"
      },
      "source": [
        "#Overall_Pandas"
      ]
    },
    {
      "cell_type": "markdown",
      "metadata": {
        "id": "zSxHNC-tyuv1",
        "colab_type": "text"
      },
      "source": [
        "creating a dataframe from a date range\n"
      ]
    },
    {
      "cell_type": "code",
      "metadata": {
        "id": "76VBpSPUys69",
        "colab_type": "code",
        "colab": {}
      },
      "source": [
        "test_data_3=pd.date_range(start='20190101',end='20190130')\n",
        "df_test_4=pd.DataFrame(np.random.rand(30,4),index=test_data_3,columns=list('ABCD'))"
      ],
      "execution_count": 0,
      "outputs": []
    },
    {
      "cell_type": "code",
      "metadata": {
        "id": "XKgeUeH3zBwd",
        "colab_type": "code",
        "colab": {
          "base_uri": "https://localhost:8080/",
          "height": 567
        },
        "outputId": "92df614b-0154-4b62-8245-42a5200fa1db"
      },
      "source": [
        "print(df_test_4)"
      ],
      "execution_count": 58,
      "outputs": [
        {
          "output_type": "stream",
          "text": [
            "                   A         B         C         D\n",
            "2019-01-01  0.526179  0.845102  0.288275  0.353967\n",
            "2019-01-02  0.072020  0.243126  0.512375  0.799581\n",
            "2019-01-03  0.142840  0.231572  0.447756  0.323995\n",
            "2019-01-04  0.364990  0.312112  0.400652  0.285164\n",
            "2019-01-05  0.395966  0.942969  0.380661  0.358966\n",
            "2019-01-06  0.471354  0.647539  0.692970  0.317159\n",
            "2019-01-07  0.925887  0.889845  0.998184  0.898717\n",
            "2019-01-08  0.246917  0.260514  0.915665  0.541378\n",
            "2019-01-09  0.930217  0.956931  0.297353  0.655281\n",
            "2019-01-10  0.319703  0.887304  0.963216  0.944099\n",
            "2019-01-11  0.989748  0.718025  0.930108  0.420769\n",
            "2019-01-12  0.411454  0.766821  0.446146  0.435579\n",
            "2019-01-13  0.238250  0.294579  0.382147  0.007128\n",
            "2019-01-14  0.172391  0.666706  0.250248  0.262078\n",
            "2019-01-15  0.050196  0.015779  0.226677  0.649425\n",
            "2019-01-16  0.644015  0.195530  0.044964  0.780257\n",
            "2019-01-17  0.574468  0.945247  0.235888  0.296780\n",
            "2019-01-18  0.980968  0.177118  0.849404  0.650953\n",
            "2019-01-19  0.146377  0.068559  0.716117  0.061955\n",
            "2019-01-20  0.552751  0.428870  0.209462  0.046619\n",
            "2019-01-21  0.757819  0.118571  0.284075  0.106138\n",
            "2019-01-22  0.493870  0.985001  0.591358  0.526889\n",
            "2019-01-23  0.132415  0.997757  0.860202  0.597285\n",
            "2019-01-24  0.747660  0.255236  0.977638  0.183887\n",
            "2019-01-25  0.764897  0.201650  0.222758  0.711900\n",
            "2019-01-26  0.683754  0.494541  0.026913  0.103049\n",
            "2019-01-27  0.567219  0.761368  0.539377  0.187687\n",
            "2019-01-28  0.499732  0.459761  0.322316  0.040608\n",
            "2019-01-29  0.962466  0.033700  0.447003  0.850653\n",
            "2019-01-30  0.672630  0.797305  0.412509  0.730405\n"
          ],
          "name": "stdout"
        }
      ]
    },
    {
      "cell_type": "code",
      "metadata": {
        "id": "1Tc7zAOhzEod",
        "colab_type": "code",
        "colab": {
          "base_uri": "https://localhost:8080/",
          "height": 197
        },
        "outputId": "d2283a4d-3b71-4ad6-ab61-61786e99cc49"
      },
      "source": [
        "df_test_4.head()"
      ],
      "execution_count": 61,
      "outputs": [
        {
          "output_type": "execute_result",
          "data": {
            "text/html": [
              "<div>\n",
              "<style scoped>\n",
              "    .dataframe tbody tr th:only-of-type {\n",
              "        vertical-align: middle;\n",
              "    }\n",
              "\n",
              "    .dataframe tbody tr th {\n",
              "        vertical-align: top;\n",
              "    }\n",
              "\n",
              "    .dataframe thead th {\n",
              "        text-align: right;\n",
              "    }\n",
              "</style>\n",
              "<table border=\"1\" class=\"dataframe\">\n",
              "  <thead>\n",
              "    <tr style=\"text-align: right;\">\n",
              "      <th></th>\n",
              "      <th>A</th>\n",
              "      <th>B</th>\n",
              "      <th>C</th>\n",
              "      <th>D</th>\n",
              "    </tr>\n",
              "  </thead>\n",
              "  <tbody>\n",
              "    <tr>\n",
              "      <th>2019-01-01</th>\n",
              "      <td>0.526179</td>\n",
              "      <td>0.845102</td>\n",
              "      <td>0.288275</td>\n",
              "      <td>0.353967</td>\n",
              "    </tr>\n",
              "    <tr>\n",
              "      <th>2019-01-02</th>\n",
              "      <td>0.072020</td>\n",
              "      <td>0.243126</td>\n",
              "      <td>0.512375</td>\n",
              "      <td>0.799581</td>\n",
              "    </tr>\n",
              "    <tr>\n",
              "      <th>2019-01-03</th>\n",
              "      <td>0.142840</td>\n",
              "      <td>0.231572</td>\n",
              "      <td>0.447756</td>\n",
              "      <td>0.323995</td>\n",
              "    </tr>\n",
              "    <tr>\n",
              "      <th>2019-01-04</th>\n",
              "      <td>0.364990</td>\n",
              "      <td>0.312112</td>\n",
              "      <td>0.400652</td>\n",
              "      <td>0.285164</td>\n",
              "    </tr>\n",
              "    <tr>\n",
              "      <th>2019-01-05</th>\n",
              "      <td>0.395966</td>\n",
              "      <td>0.942969</td>\n",
              "      <td>0.380661</td>\n",
              "      <td>0.358966</td>\n",
              "    </tr>\n",
              "  </tbody>\n",
              "</table>\n",
              "</div>"
            ],
            "text/plain": [
              "                   A         B         C         D\n",
              "2019-01-01  0.526179  0.845102  0.288275  0.353967\n",
              "2019-01-02  0.072020  0.243126  0.512375  0.799581\n",
              "2019-01-03  0.142840  0.231572  0.447756  0.323995\n",
              "2019-01-04  0.364990  0.312112  0.400652  0.285164\n",
              "2019-01-05  0.395966  0.942969  0.380661  0.358966"
            ]
          },
          "metadata": {
            "tags": []
          },
          "execution_count": 61
        }
      ]
    },
    {
      "cell_type": "code",
      "metadata": {
        "id": "v7jtWKaI8a2e",
        "colab_type": "code",
        "colab": {
          "base_uri": "https://localhost:8080/",
          "height": 197
        },
        "outputId": "f344b262-2f36-4ebf-8ec9-b691678ca361"
      },
      "source": [
        "df_test_4.tail()"
      ],
      "execution_count": 62,
      "outputs": [
        {
          "output_type": "execute_result",
          "data": {
            "text/html": [
              "<div>\n",
              "<style scoped>\n",
              "    .dataframe tbody tr th:only-of-type {\n",
              "        vertical-align: middle;\n",
              "    }\n",
              "\n",
              "    .dataframe tbody tr th {\n",
              "        vertical-align: top;\n",
              "    }\n",
              "\n",
              "    .dataframe thead th {\n",
              "        text-align: right;\n",
              "    }\n",
              "</style>\n",
              "<table border=\"1\" class=\"dataframe\">\n",
              "  <thead>\n",
              "    <tr style=\"text-align: right;\">\n",
              "      <th></th>\n",
              "      <th>A</th>\n",
              "      <th>B</th>\n",
              "      <th>C</th>\n",
              "      <th>D</th>\n",
              "    </tr>\n",
              "  </thead>\n",
              "  <tbody>\n",
              "    <tr>\n",
              "      <th>2019-01-26</th>\n",
              "      <td>0.683754</td>\n",
              "      <td>0.494541</td>\n",
              "      <td>0.026913</td>\n",
              "      <td>0.103049</td>\n",
              "    </tr>\n",
              "    <tr>\n",
              "      <th>2019-01-27</th>\n",
              "      <td>0.567219</td>\n",
              "      <td>0.761368</td>\n",
              "      <td>0.539377</td>\n",
              "      <td>0.187687</td>\n",
              "    </tr>\n",
              "    <tr>\n",
              "      <th>2019-01-28</th>\n",
              "      <td>0.499732</td>\n",
              "      <td>0.459761</td>\n",
              "      <td>0.322316</td>\n",
              "      <td>0.040608</td>\n",
              "    </tr>\n",
              "    <tr>\n",
              "      <th>2019-01-29</th>\n",
              "      <td>0.962466</td>\n",
              "      <td>0.033700</td>\n",
              "      <td>0.447003</td>\n",
              "      <td>0.850653</td>\n",
              "    </tr>\n",
              "    <tr>\n",
              "      <th>2019-01-30</th>\n",
              "      <td>0.672630</td>\n",
              "      <td>0.797305</td>\n",
              "      <td>0.412509</td>\n",
              "      <td>0.730405</td>\n",
              "    </tr>\n",
              "  </tbody>\n",
              "</table>\n",
              "</div>"
            ],
            "text/plain": [
              "                   A         B         C         D\n",
              "2019-01-26  0.683754  0.494541  0.026913  0.103049\n",
              "2019-01-27  0.567219  0.761368  0.539377  0.187687\n",
              "2019-01-28  0.499732  0.459761  0.322316  0.040608\n",
              "2019-01-29  0.962466  0.033700  0.447003  0.850653\n",
              "2019-01-30  0.672630  0.797305  0.412509  0.730405"
            ]
          },
          "metadata": {
            "tags": []
          },
          "execution_count": 62
        }
      ]
    },
    {
      "cell_type": "code",
      "metadata": {
        "id": "QvWhrXFX8jDd",
        "colab_type": "code",
        "colab": {
          "base_uri": "https://localhost:8080/",
          "height": 176
        },
        "outputId": "344d24cd-b391-4f4d-f102-33ee03410b8b"
      },
      "source": [
        "df_test_4.index"
      ],
      "execution_count": 65,
      "outputs": [
        {
          "output_type": "execute_result",
          "data": {
            "text/plain": [
              "DatetimeIndex(['2019-01-01', '2019-01-02', '2019-01-03', '2019-01-04',\n",
              "               '2019-01-05', '2019-01-06', '2019-01-07', '2019-01-08',\n",
              "               '2019-01-09', '2019-01-10', '2019-01-11', '2019-01-12',\n",
              "               '2019-01-13', '2019-01-14', '2019-01-15', '2019-01-16',\n",
              "               '2019-01-17', '2019-01-18', '2019-01-19', '2019-01-20',\n",
              "               '2019-01-21', '2019-01-22', '2019-01-23', '2019-01-24',\n",
              "               '2019-01-25', '2019-01-26', '2019-01-27', '2019-01-28',\n",
              "               '2019-01-29', '2019-01-30'],\n",
              "              dtype='datetime64[ns]', freq='D')"
            ]
          },
          "metadata": {
            "tags": []
          },
          "execution_count": 65
        }
      ]
    },
    {
      "cell_type": "code",
      "metadata": {
        "id": "E9zZvg1o8uzd",
        "colab_type": "code",
        "colab": {
          "base_uri": "https://localhost:8080/",
          "height": 34
        },
        "outputId": "623a3b48-e045-4af7-9038-81d71eee474d"
      },
      "source": [
        "df_test_4.columns"
      ],
      "execution_count": 66,
      "outputs": [
        {
          "output_type": "execute_result",
          "data": {
            "text/plain": [
              "Index(['A', 'B', 'C', 'D'], dtype='object')"
            ]
          },
          "metadata": {
            "tags": []
          },
          "execution_count": 66
        }
      ]
    },
    {
      "cell_type": "code",
      "metadata": {
        "id": "UOwyLOk99EEt",
        "colab_type": "code",
        "colab": {
          "base_uri": "https://localhost:8080/",
          "height": 287
        },
        "outputId": "dd7d3663-e0f6-465e-a615-759e288acd05"
      },
      "source": [
        "df_test_4.describe()#### million dolar command"
      ],
      "execution_count": 67,
      "outputs": [
        {
          "output_type": "execute_result",
          "data": {
            "text/html": [
              "<div>\n",
              "<style scoped>\n",
              "    .dataframe tbody tr th:only-of-type {\n",
              "        vertical-align: middle;\n",
              "    }\n",
              "\n",
              "    .dataframe tbody tr th {\n",
              "        vertical-align: top;\n",
              "    }\n",
              "\n",
              "    .dataframe thead th {\n",
              "        text-align: right;\n",
              "    }\n",
              "</style>\n",
              "<table border=\"1\" class=\"dataframe\">\n",
              "  <thead>\n",
              "    <tr style=\"text-align: right;\">\n",
              "      <th></th>\n",
              "      <th>A</th>\n",
              "      <th>B</th>\n",
              "      <th>C</th>\n",
              "      <th>D</th>\n",
              "    </tr>\n",
              "  </thead>\n",
              "  <tbody>\n",
              "    <tr>\n",
              "      <th>count</th>\n",
              "      <td>30.000000</td>\n",
              "      <td>30.000000</td>\n",
              "      <td>30.000000</td>\n",
              "      <td>30.000000</td>\n",
              "    </tr>\n",
              "    <tr>\n",
              "      <th>mean</th>\n",
              "      <td>0.514638</td>\n",
              "      <td>0.519971</td>\n",
              "      <td>0.495747</td>\n",
              "      <td>0.437612</td>\n",
              "    </tr>\n",
              "    <tr>\n",
              "      <th>std</th>\n",
              "      <td>0.289130</td>\n",
              "      <td>0.333702</td>\n",
              "      <td>0.288343</td>\n",
              "      <td>0.283541</td>\n",
              "    </tr>\n",
              "    <tr>\n",
              "      <th>min</th>\n",
              "      <td>0.050196</td>\n",
              "      <td>0.015779</td>\n",
              "      <td>0.026913</td>\n",
              "      <td>0.007128</td>\n",
              "    </tr>\n",
              "    <tr>\n",
              "      <th>25%</th>\n",
              "      <td>0.265114</td>\n",
              "      <td>0.234461</td>\n",
              "      <td>0.285125</td>\n",
              "      <td>0.206285</td>\n",
              "    </tr>\n",
              "    <tr>\n",
              "      <th>50%</th>\n",
              "      <td>0.512956</td>\n",
              "      <td>0.477151</td>\n",
              "      <td>0.429328</td>\n",
              "      <td>0.389867</td>\n",
              "    </tr>\n",
              "    <tr>\n",
              "      <th>75%</th>\n",
              "      <td>0.731684</td>\n",
              "      <td>0.833153</td>\n",
              "      <td>0.710330</td>\n",
              "      <td>0.654199</td>\n",
              "    </tr>\n",
              "    <tr>\n",
              "      <th>max</th>\n",
              "      <td>0.989748</td>\n",
              "      <td>0.997757</td>\n",
              "      <td>0.998184</td>\n",
              "      <td>0.944099</td>\n",
              "    </tr>\n",
              "  </tbody>\n",
              "</table>\n",
              "</div>"
            ],
            "text/plain": [
              "               A          B          C          D\n",
              "count  30.000000  30.000000  30.000000  30.000000\n",
              "mean    0.514638   0.519971   0.495747   0.437612\n",
              "std     0.289130   0.333702   0.288343   0.283541\n",
              "min     0.050196   0.015779   0.026913   0.007128\n",
              "25%     0.265114   0.234461   0.285125   0.206285\n",
              "50%     0.512956   0.477151   0.429328   0.389867\n",
              "75%     0.731684   0.833153   0.710330   0.654199\n",
              "max     0.989748   0.997757   0.998184   0.944099"
            ]
          },
          "metadata": {
            "tags": []
          },
          "execution_count": 67
        }
      ]
    },
    {
      "cell_type": "code",
      "metadata": {
        "id": "wDaKifEN9rGQ",
        "colab_type": "code",
        "colab": {
          "base_uri": "https://localhost:8080/",
          "height": 204
        },
        "outputId": "94477bfc-bd5b-4f6e-f46d-d2eb33377c63"
      },
      "source": [
        "#transposing the dataframe\n",
        "df_test_4.T"
      ],
      "execution_count": 71,
      "outputs": [
        {
          "output_type": "execute_result",
          "data": {
            "text/html": [
              "<div>\n",
              "<style scoped>\n",
              "    .dataframe tbody tr th:only-of-type {\n",
              "        vertical-align: middle;\n",
              "    }\n",
              "\n",
              "    .dataframe tbody tr th {\n",
              "        vertical-align: top;\n",
              "    }\n",
              "\n",
              "    .dataframe thead th {\n",
              "        text-align: right;\n",
              "    }\n",
              "</style>\n",
              "<table border=\"1\" class=\"dataframe\">\n",
              "  <thead>\n",
              "    <tr style=\"text-align: right;\">\n",
              "      <th></th>\n",
              "      <th>2019-01-01</th>\n",
              "      <th>2019-01-02</th>\n",
              "      <th>2019-01-03</th>\n",
              "      <th>2019-01-04</th>\n",
              "      <th>2019-01-05</th>\n",
              "      <th>2019-01-06</th>\n",
              "      <th>2019-01-07</th>\n",
              "      <th>2019-01-08</th>\n",
              "      <th>2019-01-09</th>\n",
              "      <th>2019-01-10</th>\n",
              "      <th>2019-01-11</th>\n",
              "      <th>2019-01-12</th>\n",
              "      <th>2019-01-13</th>\n",
              "      <th>2019-01-14</th>\n",
              "      <th>2019-01-15</th>\n",
              "      <th>2019-01-16</th>\n",
              "      <th>2019-01-17</th>\n",
              "      <th>2019-01-18</th>\n",
              "      <th>2019-01-19</th>\n",
              "      <th>2019-01-20</th>\n",
              "      <th>2019-01-21</th>\n",
              "      <th>2019-01-22</th>\n",
              "      <th>2019-01-23</th>\n",
              "      <th>2019-01-24</th>\n",
              "      <th>2019-01-25</th>\n",
              "      <th>2019-01-26</th>\n",
              "      <th>2019-01-27</th>\n",
              "      <th>2019-01-28</th>\n",
              "      <th>2019-01-29</th>\n",
              "      <th>2019-01-30</th>\n",
              "    </tr>\n",
              "  </thead>\n",
              "  <tbody>\n",
              "    <tr>\n",
              "      <th>A</th>\n",
              "      <td>0.526179</td>\n",
              "      <td>0.072020</td>\n",
              "      <td>0.142840</td>\n",
              "      <td>0.364990</td>\n",
              "      <td>0.395966</td>\n",
              "      <td>0.471354</td>\n",
              "      <td>0.925887</td>\n",
              "      <td>0.246917</td>\n",
              "      <td>0.930217</td>\n",
              "      <td>0.319703</td>\n",
              "      <td>0.989748</td>\n",
              "      <td>0.411454</td>\n",
              "      <td>0.238250</td>\n",
              "      <td>0.172391</td>\n",
              "      <td>0.050196</td>\n",
              "      <td>0.644015</td>\n",
              "      <td>0.574468</td>\n",
              "      <td>0.980968</td>\n",
              "      <td>0.146377</td>\n",
              "      <td>0.552751</td>\n",
              "      <td>0.757819</td>\n",
              "      <td>0.493870</td>\n",
              "      <td>0.132415</td>\n",
              "      <td>0.747660</td>\n",
              "      <td>0.764897</td>\n",
              "      <td>0.683754</td>\n",
              "      <td>0.567219</td>\n",
              "      <td>0.499732</td>\n",
              "      <td>0.962466</td>\n",
              "      <td>0.672630</td>\n",
              "    </tr>\n",
              "    <tr>\n",
              "      <th>B</th>\n",
              "      <td>0.845102</td>\n",
              "      <td>0.243126</td>\n",
              "      <td>0.231572</td>\n",
              "      <td>0.312112</td>\n",
              "      <td>0.942969</td>\n",
              "      <td>0.647539</td>\n",
              "      <td>0.889845</td>\n",
              "      <td>0.260514</td>\n",
              "      <td>0.956931</td>\n",
              "      <td>0.887304</td>\n",
              "      <td>0.718025</td>\n",
              "      <td>0.766821</td>\n",
              "      <td>0.294579</td>\n",
              "      <td>0.666706</td>\n",
              "      <td>0.015779</td>\n",
              "      <td>0.195530</td>\n",
              "      <td>0.945247</td>\n",
              "      <td>0.177118</td>\n",
              "      <td>0.068559</td>\n",
              "      <td>0.428870</td>\n",
              "      <td>0.118571</td>\n",
              "      <td>0.985001</td>\n",
              "      <td>0.997757</td>\n",
              "      <td>0.255236</td>\n",
              "      <td>0.201650</td>\n",
              "      <td>0.494541</td>\n",
              "      <td>0.761368</td>\n",
              "      <td>0.459761</td>\n",
              "      <td>0.033700</td>\n",
              "      <td>0.797305</td>\n",
              "    </tr>\n",
              "    <tr>\n",
              "      <th>C</th>\n",
              "      <td>0.288275</td>\n",
              "      <td>0.512375</td>\n",
              "      <td>0.447756</td>\n",
              "      <td>0.400652</td>\n",
              "      <td>0.380661</td>\n",
              "      <td>0.692970</td>\n",
              "      <td>0.998184</td>\n",
              "      <td>0.915665</td>\n",
              "      <td>0.297353</td>\n",
              "      <td>0.963216</td>\n",
              "      <td>0.930108</td>\n",
              "      <td>0.446146</td>\n",
              "      <td>0.382147</td>\n",
              "      <td>0.250248</td>\n",
              "      <td>0.226677</td>\n",
              "      <td>0.044964</td>\n",
              "      <td>0.235888</td>\n",
              "      <td>0.849404</td>\n",
              "      <td>0.716117</td>\n",
              "      <td>0.209462</td>\n",
              "      <td>0.284075</td>\n",
              "      <td>0.591358</td>\n",
              "      <td>0.860202</td>\n",
              "      <td>0.977638</td>\n",
              "      <td>0.222758</td>\n",
              "      <td>0.026913</td>\n",
              "      <td>0.539377</td>\n",
              "      <td>0.322316</td>\n",
              "      <td>0.447003</td>\n",
              "      <td>0.412509</td>\n",
              "    </tr>\n",
              "    <tr>\n",
              "      <th>D</th>\n",
              "      <td>0.353967</td>\n",
              "      <td>0.799581</td>\n",
              "      <td>0.323995</td>\n",
              "      <td>0.285164</td>\n",
              "      <td>0.358966</td>\n",
              "      <td>0.317159</td>\n",
              "      <td>0.898717</td>\n",
              "      <td>0.541378</td>\n",
              "      <td>0.655281</td>\n",
              "      <td>0.944099</td>\n",
              "      <td>0.420769</td>\n",
              "      <td>0.435579</td>\n",
              "      <td>0.007128</td>\n",
              "      <td>0.262078</td>\n",
              "      <td>0.649425</td>\n",
              "      <td>0.780257</td>\n",
              "      <td>0.296780</td>\n",
              "      <td>0.650953</td>\n",
              "      <td>0.061955</td>\n",
              "      <td>0.046619</td>\n",
              "      <td>0.106138</td>\n",
              "      <td>0.526889</td>\n",
              "      <td>0.597285</td>\n",
              "      <td>0.183887</td>\n",
              "      <td>0.711900</td>\n",
              "      <td>0.103049</td>\n",
              "      <td>0.187687</td>\n",
              "      <td>0.040608</td>\n",
              "      <td>0.850653</td>\n",
              "      <td>0.730405</td>\n",
              "    </tr>\n",
              "  </tbody>\n",
              "</table>\n",
              "</div>"
            ],
            "text/plain": [
              "   2019-01-01  2019-01-02  2019-01-03  ...  2019-01-28  2019-01-29  2019-01-30\n",
              "A    0.526179    0.072020    0.142840  ...    0.499732    0.962466    0.672630\n",
              "B    0.845102    0.243126    0.231572  ...    0.459761    0.033700    0.797305\n",
              "C    0.288275    0.512375    0.447756  ...    0.322316    0.447003    0.412509\n",
              "D    0.353967    0.799581    0.323995  ...    0.040608    0.850653    0.730405\n",
              "\n",
              "[4 rows x 30 columns]"
            ]
          },
          "metadata": {
            "tags": []
          },
          "execution_count": 71
        }
      ]
    },
    {
      "cell_type": "code",
      "metadata": {
        "id": "ZljkaqhvAWH9",
        "colab_type": "code",
        "colab": {
          "base_uri": "https://localhost:8080/",
          "height": 34
        },
        "outputId": "6641fa88-8aed-4bb1-b24a-cf210129699e"
      },
      "source": [
        "df_test_4['A'].mean()"
      ],
      "execution_count": 72,
      "outputs": [
        {
          "output_type": "execute_result",
          "data": {
            "text/plain": [
              "0.5146384781399458"
            ]
          },
          "metadata": {
            "tags": []
          },
          "execution_count": 72
        }
      ]
    },
    {
      "cell_type": "markdown",
      "metadata": {
        "id": "Mu2GRNt3HfSG",
        "colab_type": "text"
      },
      "source": [
        "Bolean operationa nd grouping"
      ]
    },
    {
      "cell_type": "code",
      "metadata": {
        "id": "uB11R3FuE-9d",
        "colab_type": "code",
        "colab": {}
      },
      "source": [
        "df_test_4 [df_test_4.A > 0.5]"
      ],
      "execution_count": 0,
      "outputs": []
    },
    {
      "cell_type": "code",
      "metadata": {
        "id": "j7moz2_2GGFt",
        "colab_type": "code",
        "colab": {}
      },
      "source": [
        "df_test_4['boolean']=df_test_4['A']>0.5"
      ],
      "execution_count": 0,
      "outputs": []
    },
    {
      "cell_type": "code",
      "metadata": {
        "id": "nfyBGSYpGops",
        "colab_type": "code",
        "colab": {
          "base_uri": "https://localhost:8080/",
          "height": 947
        },
        "outputId": "5c57d0cb-e62b-43a9-99cc-e88e4bbfefff"
      },
      "source": [
        "df_test_4"
      ],
      "execution_count": 82,
      "outputs": [
        {
          "output_type": "execute_result",
          "data": {
            "text/html": [
              "<div>\n",
              "<style scoped>\n",
              "    .dataframe tbody tr th:only-of-type {\n",
              "        vertical-align: middle;\n",
              "    }\n",
              "\n",
              "    .dataframe tbody tr th {\n",
              "        vertical-align: top;\n",
              "    }\n",
              "\n",
              "    .dataframe thead th {\n",
              "        text-align: right;\n",
              "    }\n",
              "</style>\n",
              "<table border=\"1\" class=\"dataframe\">\n",
              "  <thead>\n",
              "    <tr style=\"text-align: right;\">\n",
              "      <th></th>\n",
              "      <th>A</th>\n",
              "      <th>B</th>\n",
              "      <th>C</th>\n",
              "      <th>D</th>\n",
              "      <th>boolean</th>\n",
              "    </tr>\n",
              "  </thead>\n",
              "  <tbody>\n",
              "    <tr>\n",
              "      <th>2019-01-01</th>\n",
              "      <td>0.526179</td>\n",
              "      <td>0.845102</td>\n",
              "      <td>0.288275</td>\n",
              "      <td>0.353967</td>\n",
              "      <td>True</td>\n",
              "    </tr>\n",
              "    <tr>\n",
              "      <th>2019-01-02</th>\n",
              "      <td>0.072020</td>\n",
              "      <td>0.243126</td>\n",
              "      <td>0.512375</td>\n",
              "      <td>0.799581</td>\n",
              "      <td>False</td>\n",
              "    </tr>\n",
              "    <tr>\n",
              "      <th>2019-01-03</th>\n",
              "      <td>0.142840</td>\n",
              "      <td>0.231572</td>\n",
              "      <td>0.447756</td>\n",
              "      <td>0.323995</td>\n",
              "      <td>False</td>\n",
              "    </tr>\n",
              "    <tr>\n",
              "      <th>2019-01-04</th>\n",
              "      <td>0.364990</td>\n",
              "      <td>0.312112</td>\n",
              "      <td>0.400652</td>\n",
              "      <td>0.285164</td>\n",
              "      <td>False</td>\n",
              "    </tr>\n",
              "    <tr>\n",
              "      <th>2019-01-05</th>\n",
              "      <td>0.395966</td>\n",
              "      <td>0.942969</td>\n",
              "      <td>0.380661</td>\n",
              "      <td>0.358966</td>\n",
              "      <td>False</td>\n",
              "    </tr>\n",
              "    <tr>\n",
              "      <th>2019-01-06</th>\n",
              "      <td>0.471354</td>\n",
              "      <td>0.647539</td>\n",
              "      <td>0.692970</td>\n",
              "      <td>0.317159</td>\n",
              "      <td>False</td>\n",
              "    </tr>\n",
              "    <tr>\n",
              "      <th>2019-01-07</th>\n",
              "      <td>0.925887</td>\n",
              "      <td>0.889845</td>\n",
              "      <td>0.998184</td>\n",
              "      <td>0.898717</td>\n",
              "      <td>True</td>\n",
              "    </tr>\n",
              "    <tr>\n",
              "      <th>2019-01-08</th>\n",
              "      <td>0.246917</td>\n",
              "      <td>0.260514</td>\n",
              "      <td>0.915665</td>\n",
              "      <td>0.541378</td>\n",
              "      <td>False</td>\n",
              "    </tr>\n",
              "    <tr>\n",
              "      <th>2019-01-09</th>\n",
              "      <td>0.930217</td>\n",
              "      <td>0.956931</td>\n",
              "      <td>0.297353</td>\n",
              "      <td>0.655281</td>\n",
              "      <td>True</td>\n",
              "    </tr>\n",
              "    <tr>\n",
              "      <th>2019-01-10</th>\n",
              "      <td>0.319703</td>\n",
              "      <td>0.887304</td>\n",
              "      <td>0.963216</td>\n",
              "      <td>0.944099</td>\n",
              "      <td>False</td>\n",
              "    </tr>\n",
              "    <tr>\n",
              "      <th>2019-01-11</th>\n",
              "      <td>0.989748</td>\n",
              "      <td>0.718025</td>\n",
              "      <td>0.930108</td>\n",
              "      <td>0.420769</td>\n",
              "      <td>True</td>\n",
              "    </tr>\n",
              "    <tr>\n",
              "      <th>2019-01-12</th>\n",
              "      <td>0.411454</td>\n",
              "      <td>0.766821</td>\n",
              "      <td>0.446146</td>\n",
              "      <td>0.435579</td>\n",
              "      <td>False</td>\n",
              "    </tr>\n",
              "    <tr>\n",
              "      <th>2019-01-13</th>\n",
              "      <td>0.238250</td>\n",
              "      <td>0.294579</td>\n",
              "      <td>0.382147</td>\n",
              "      <td>0.007128</td>\n",
              "      <td>False</td>\n",
              "    </tr>\n",
              "    <tr>\n",
              "      <th>2019-01-14</th>\n",
              "      <td>0.172391</td>\n",
              "      <td>0.666706</td>\n",
              "      <td>0.250248</td>\n",
              "      <td>0.262078</td>\n",
              "      <td>False</td>\n",
              "    </tr>\n",
              "    <tr>\n",
              "      <th>2019-01-15</th>\n",
              "      <td>0.050196</td>\n",
              "      <td>0.015779</td>\n",
              "      <td>0.226677</td>\n",
              "      <td>0.649425</td>\n",
              "      <td>False</td>\n",
              "    </tr>\n",
              "    <tr>\n",
              "      <th>2019-01-16</th>\n",
              "      <td>0.644015</td>\n",
              "      <td>0.195530</td>\n",
              "      <td>0.044964</td>\n",
              "      <td>0.780257</td>\n",
              "      <td>True</td>\n",
              "    </tr>\n",
              "    <tr>\n",
              "      <th>2019-01-17</th>\n",
              "      <td>0.574468</td>\n",
              "      <td>0.945247</td>\n",
              "      <td>0.235888</td>\n",
              "      <td>0.296780</td>\n",
              "      <td>True</td>\n",
              "    </tr>\n",
              "    <tr>\n",
              "      <th>2019-01-18</th>\n",
              "      <td>0.980968</td>\n",
              "      <td>0.177118</td>\n",
              "      <td>0.849404</td>\n",
              "      <td>0.650953</td>\n",
              "      <td>True</td>\n",
              "    </tr>\n",
              "    <tr>\n",
              "      <th>2019-01-19</th>\n",
              "      <td>0.146377</td>\n",
              "      <td>0.068559</td>\n",
              "      <td>0.716117</td>\n",
              "      <td>0.061955</td>\n",
              "      <td>False</td>\n",
              "    </tr>\n",
              "    <tr>\n",
              "      <th>2019-01-20</th>\n",
              "      <td>0.552751</td>\n",
              "      <td>0.428870</td>\n",
              "      <td>0.209462</td>\n",
              "      <td>0.046619</td>\n",
              "      <td>True</td>\n",
              "    </tr>\n",
              "    <tr>\n",
              "      <th>2019-01-21</th>\n",
              "      <td>0.757819</td>\n",
              "      <td>0.118571</td>\n",
              "      <td>0.284075</td>\n",
              "      <td>0.106138</td>\n",
              "      <td>True</td>\n",
              "    </tr>\n",
              "    <tr>\n",
              "      <th>2019-01-22</th>\n",
              "      <td>0.493870</td>\n",
              "      <td>0.985001</td>\n",
              "      <td>0.591358</td>\n",
              "      <td>0.526889</td>\n",
              "      <td>False</td>\n",
              "    </tr>\n",
              "    <tr>\n",
              "      <th>2019-01-23</th>\n",
              "      <td>0.132415</td>\n",
              "      <td>0.997757</td>\n",
              "      <td>0.860202</td>\n",
              "      <td>0.597285</td>\n",
              "      <td>False</td>\n",
              "    </tr>\n",
              "    <tr>\n",
              "      <th>2019-01-24</th>\n",
              "      <td>0.747660</td>\n",
              "      <td>0.255236</td>\n",
              "      <td>0.977638</td>\n",
              "      <td>0.183887</td>\n",
              "      <td>True</td>\n",
              "    </tr>\n",
              "    <tr>\n",
              "      <th>2019-01-25</th>\n",
              "      <td>0.764897</td>\n",
              "      <td>0.201650</td>\n",
              "      <td>0.222758</td>\n",
              "      <td>0.711900</td>\n",
              "      <td>True</td>\n",
              "    </tr>\n",
              "    <tr>\n",
              "      <th>2019-01-26</th>\n",
              "      <td>0.683754</td>\n",
              "      <td>0.494541</td>\n",
              "      <td>0.026913</td>\n",
              "      <td>0.103049</td>\n",
              "      <td>True</td>\n",
              "    </tr>\n",
              "    <tr>\n",
              "      <th>2019-01-27</th>\n",
              "      <td>0.567219</td>\n",
              "      <td>0.761368</td>\n",
              "      <td>0.539377</td>\n",
              "      <td>0.187687</td>\n",
              "      <td>True</td>\n",
              "    </tr>\n",
              "    <tr>\n",
              "      <th>2019-01-28</th>\n",
              "      <td>0.499732</td>\n",
              "      <td>0.459761</td>\n",
              "      <td>0.322316</td>\n",
              "      <td>0.040608</td>\n",
              "      <td>False</td>\n",
              "    </tr>\n",
              "    <tr>\n",
              "      <th>2019-01-29</th>\n",
              "      <td>0.962466</td>\n",
              "      <td>0.033700</td>\n",
              "      <td>0.447003</td>\n",
              "      <td>0.850653</td>\n",
              "      <td>True</td>\n",
              "    </tr>\n",
              "    <tr>\n",
              "      <th>2019-01-30</th>\n",
              "      <td>0.672630</td>\n",
              "      <td>0.797305</td>\n",
              "      <td>0.412509</td>\n",
              "      <td>0.730405</td>\n",
              "      <td>True</td>\n",
              "    </tr>\n",
              "  </tbody>\n",
              "</table>\n",
              "</div>"
            ],
            "text/plain": [
              "                   A         B         C         D  boolean\n",
              "2019-01-01  0.526179  0.845102  0.288275  0.353967     True\n",
              "2019-01-02  0.072020  0.243126  0.512375  0.799581    False\n",
              "2019-01-03  0.142840  0.231572  0.447756  0.323995    False\n",
              "2019-01-04  0.364990  0.312112  0.400652  0.285164    False\n",
              "2019-01-05  0.395966  0.942969  0.380661  0.358966    False\n",
              "2019-01-06  0.471354  0.647539  0.692970  0.317159    False\n",
              "2019-01-07  0.925887  0.889845  0.998184  0.898717     True\n",
              "2019-01-08  0.246917  0.260514  0.915665  0.541378    False\n",
              "2019-01-09  0.930217  0.956931  0.297353  0.655281     True\n",
              "2019-01-10  0.319703  0.887304  0.963216  0.944099    False\n",
              "2019-01-11  0.989748  0.718025  0.930108  0.420769     True\n",
              "2019-01-12  0.411454  0.766821  0.446146  0.435579    False\n",
              "2019-01-13  0.238250  0.294579  0.382147  0.007128    False\n",
              "2019-01-14  0.172391  0.666706  0.250248  0.262078    False\n",
              "2019-01-15  0.050196  0.015779  0.226677  0.649425    False\n",
              "2019-01-16  0.644015  0.195530  0.044964  0.780257     True\n",
              "2019-01-17  0.574468  0.945247  0.235888  0.296780     True\n",
              "2019-01-18  0.980968  0.177118  0.849404  0.650953     True\n",
              "2019-01-19  0.146377  0.068559  0.716117  0.061955    False\n",
              "2019-01-20  0.552751  0.428870  0.209462  0.046619     True\n",
              "2019-01-21  0.757819  0.118571  0.284075  0.106138     True\n",
              "2019-01-22  0.493870  0.985001  0.591358  0.526889    False\n",
              "2019-01-23  0.132415  0.997757  0.860202  0.597285    False\n",
              "2019-01-24  0.747660  0.255236  0.977638  0.183887     True\n",
              "2019-01-25  0.764897  0.201650  0.222758  0.711900     True\n",
              "2019-01-26  0.683754  0.494541  0.026913  0.103049     True\n",
              "2019-01-27  0.567219  0.761368  0.539377  0.187687     True\n",
              "2019-01-28  0.499732  0.459761  0.322316  0.040608    False\n",
              "2019-01-29  0.962466  0.033700  0.447003  0.850653     True\n",
              "2019-01-30  0.672630  0.797305  0.412509  0.730405     True"
            ]
          },
          "metadata": {
            "tags": []
          },
          "execution_count": 82
        }
      ]
    },
    {
      "cell_type": "code",
      "metadata": {
        "id": "YCHAtpEPHai8",
        "colab_type": "code",
        "colab": {}
      },
      "source": [
        "g=df_test_4.groupby(['boolean'])"
      ],
      "execution_count": 0,
      "outputs": []
    },
    {
      "cell_type": "code",
      "metadata": {
        "id": "ga8MQvKGHsM9",
        "colab_type": "code",
        "colab": {
          "base_uri": "https://localhost:8080/",
          "height": 621
        },
        "outputId": "c288cccd-7fc0-4308-f8b9-732ef859b6c9"
      },
      "source": [
        "for key,df_test_4_key in g:\n",
        "  print(key)\n",
        "  print(df_test_4_key)"
      ],
      "execution_count": 89,
      "outputs": [
        {
          "output_type": "stream",
          "text": [
            "False\n",
            "                   A         B         C         D  boolean\n",
            "2019-01-02  0.072020  0.243126  0.512375  0.799581    False\n",
            "2019-01-03  0.142840  0.231572  0.447756  0.323995    False\n",
            "2019-01-04  0.364990  0.312112  0.400652  0.285164    False\n",
            "2019-01-05  0.395966  0.942969  0.380661  0.358966    False\n",
            "2019-01-06  0.471354  0.647539  0.692970  0.317159    False\n",
            "2019-01-08  0.246917  0.260514  0.915665  0.541378    False\n",
            "2019-01-10  0.319703  0.887304  0.963216  0.944099    False\n",
            "2019-01-12  0.411454  0.766821  0.446146  0.435579    False\n",
            "2019-01-13  0.238250  0.294579  0.382147  0.007128    False\n",
            "2019-01-14  0.172391  0.666706  0.250248  0.262078    False\n",
            "2019-01-15  0.050196  0.015779  0.226677  0.649425    False\n",
            "2019-01-19  0.146377  0.068559  0.716117  0.061955    False\n",
            "2019-01-22  0.493870  0.985001  0.591358  0.526889    False\n",
            "2019-01-23  0.132415  0.997757  0.860202  0.597285    False\n",
            "2019-01-28  0.499732  0.459761  0.322316  0.040608    False\n",
            "True\n",
            "                   A         B         C         D  boolean\n",
            "2019-01-01  0.526179  0.845102  0.288275  0.353967     True\n",
            "2019-01-07  0.925887  0.889845  0.998184  0.898717     True\n",
            "2019-01-09  0.930217  0.956931  0.297353  0.655281     True\n",
            "2019-01-11  0.989748  0.718025  0.930108  0.420769     True\n",
            "2019-01-16  0.644015  0.195530  0.044964  0.780257     True\n",
            "2019-01-17  0.574468  0.945247  0.235888  0.296780     True\n",
            "2019-01-18  0.980968  0.177118  0.849404  0.650953     True\n",
            "2019-01-20  0.552751  0.428870  0.209462  0.046619     True\n",
            "2019-01-21  0.757819  0.118571  0.284075  0.106138     True\n",
            "2019-01-24  0.747660  0.255236  0.977638  0.183887     True\n",
            "2019-01-25  0.764897  0.201650  0.222758  0.711900     True\n",
            "2019-01-26  0.683754  0.494541  0.026913  0.103049     True\n",
            "2019-01-27  0.567219  0.761368  0.539377  0.187687     True\n",
            "2019-01-29  0.962466  0.033700  0.447003  0.850653     True\n",
            "2019-01-30  0.672630  0.797305  0.412509  0.730405     True\n"
          ],
          "name": "stdout"
        }
      ]
    }
  ]
}