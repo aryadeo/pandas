{
  "nbformat": 4,
  "nbformat_minor": 0,
  "metadata": {
    "colab": {
      "name": "pandas.ipynb",
      "provenance": [],
      "collapsed_sections": [],
      "toc_visible": true,
      "include_colab_link": true
    },
    "kernelspec": {
      "name": "python3",
      "display_name": "Python 3"
    }
  },
  "cells": [
    {
      "cell_type": "markdown",
      "metadata": {
        "id": "view-in-github",
        "colab_type": "text"
      },
      "source": [
        "<a href=\"https://colab.research.google.com/github/aryadeo/pandas/blob/master/pandas.ipynb\" target=\"_parent\"><img src=\"https://colab.research.google.com/assets/colab-badge.svg\" alt=\"Open In Colab\"/></a>"
      ]
    },
    {
      "cell_type": "markdown",
      "metadata": {
        "id": "oWp2L0uvrzK0",
        "colab_type": "text"
      },
      "source": [
        "#Basics of Pandas\n",
        "![Pandas Logo](https://drive.google.com/uc?id=1fn6w_q1O1jvFWQB6JlDQVKa6KG7_BG5A)"
      ]
    },
    {
      "cell_type": "markdown",
      "metadata": {
        "id": "nMQemGcautwr",
        "colab_type": "text"
      },
      "source": [
        "Date: 12/11/2019\n",
        "\n",
        "pandas has two primary data structure.\n",
        "1. Series(for 1D data)\n",
        "2. DataFrame(for 2D data)\n",
        "\n",
        "Data Processing can be done in three ways.\n",
        "1. Data munging and cleaning\n",
        "2. Analyzing and modelling the data\n",
        "3. Organizing for sulitable ploting and visualization"
      ]
    },
    {
      "cell_type": "code",
      "metadata": {
        "id": "4TKcZIJqpuaJ",
        "colab_type": "code",
        "colab": {}
      },
      "source": [
        "!pip install pandas"
      ],
      "execution_count": 0,
      "outputs": []
    },
    {
      "cell_type": "code",
      "metadata": {
        "id": "4GF8fVx_u-UK",
        "colab_type": "code",
        "colab": {}
      },
      "source": [
        "import numpy as np\n",
        "import pandas as pd\n",
        "import matplotlib.pyplot as plt\n",
        "import seaborn as sns\n",
        "sns.set()"
      ],
      "execution_count": 0,
      "outputs": []
    },
    {
      "cell_type": "markdown",
      "metadata": {
        "id": "7zq83tLTwOxL",
        "colab_type": "text"
      },
      "source": [
        "#Data Structure\n"
      ]
    },
    {
      "cell_type": "markdown",
      "metadata": {
        "id": "dOuBgmNNxoTK",
        "colab_type": "text"
      },
      "source": [
        "##Series-1D \n",
        "A series can be buit from\n",
        "\n",
        "\n",
        "*   np array\n",
        "*   dictionary\n",
        "*   scalar"
      ]
    },
    {
      "cell_type": "code",
      "metadata": {
        "id": "eTmXWCsqzQZl",
        "colab_type": "code",
        "colab": {
          "base_uri": "https://localhost:8080/",
          "height": 212
        },
        "outputId": "2e06ef79-290c-40c3-b388-4c14163ebbac"
      },
      "source": [
        "#series created with auto indexing\n",
        "s_test_1=pd.Series(np.random.randn(10))\n",
        "s_test_1"
      ],
      "execution_count": 16,
      "outputs": [
        {
          "output_type": "execute_result",
          "data": {
            "text/plain": [
              "0   -1.574871\n",
              "1   -1.551165\n",
              "2    0.893073\n",
              "3   -0.790712\n",
              "4    0.972108\n",
              "5   -0.558416\n",
              "6   -0.803402\n",
              "7   -1.338986\n",
              "8    0.386394\n",
              "9   -2.587624\n",
              "dtype: float64"
            ]
          },
          "metadata": {
            "tags": []
          },
          "execution_count": 16
        }
      ]
    },
    {
      "cell_type": "code",
      "metadata": {
        "id": "-ojFfbi6wB99",
        "colab_type": "code",
        "colab": {
          "base_uri": "https://localhost:8080/",
          "height": 212
        },
        "outputId": "3fa1949b-0785-40d2-e799-7213165cbad8"
      },
      "source": [
        "#series from numpy with defined indices\n",
        "s_test_2=pd.Series(np.random.randn(10), index=list('ABCDEFGHIJ'))\n",
        "s_test_2"
      ],
      "execution_count": 18,
      "outputs": [
        {
          "output_type": "execute_result",
          "data": {
            "text/plain": [
              "A   -0.399814\n",
              "B   -0.106604\n",
              "C    0.728763\n",
              "D   -0.042455\n",
              "E   -0.454100\n",
              "F   -1.071079\n",
              "G   -0.016628\n",
              "H   -1.020470\n",
              "I   -1.160104\n",
              "J    0.793812\n",
              "dtype: float64"
            ]
          },
          "metadata": {
            "tags": []
          },
          "execution_count": 18
        }
      ]
    },
    {
      "cell_type": "code",
      "metadata": {
        "id": "lh_raQRpx-KA",
        "colab_type": "code",
        "colab": {
          "base_uri": "https://localhost:8080/",
          "height": 123
        },
        "outputId": "9bffdfd3-e676-4673-c64c-3663ab24de76"
      },
      "source": [
        "#series from scalar with defined indices\n",
        "s_test_3=pd.Series(55.55,index=[m for m in range(5)])\n",
        "s_test_3"
      ],
      "execution_count": 24,
      "outputs": [
        {
          "output_type": "execute_result",
          "data": {
            "text/plain": [
              "0    55.55\n",
              "1    55.55\n",
              "2    55.55\n",
              "3    55.55\n",
              "4    55.55\n",
              "dtype: float64"
            ]
          },
          "metadata": {
            "tags": []
          },
          "execution_count": 24
        }
      ]
    },
    {
      "cell_type": "code",
      "metadata": {
        "id": "3iU_KpZY0QZF",
        "colab_type": "code",
        "colab": {
          "base_uri": "https://localhost:8080/",
          "height": 70
        },
        "outputId": "f20cfb9d-261c-413c-fe18-6539648b91bf"
      },
      "source": [
        "#Series in dict form\n",
        "s_test_4=pd.Series({'a':1,'b':2})\n",
        "s_test_4"
      ],
      "execution_count": 25,
      "outputs": [
        {
          "output_type": "execute_result",
          "data": {
            "text/plain": [
              "a    1\n",
              "b    2\n",
              "dtype: int64"
            ]
          },
          "metadata": {
            "tags": []
          },
          "execution_count": 25
        }
      ]
    },
    {
      "cell_type": "markdown",
      "metadata": {
        "id": "UgRhPrSE1rFl",
        "colab_type": "text"
      },
      "source": [
        "operations in a series\n"
      ]
    },
    {
      "cell_type": "code",
      "metadata": {
        "id": "RqtCQwL81H9t",
        "colab_type": "code",
        "colab": {
          "base_uri": "https://localhost:8080/",
          "height": 70
        },
        "outputId": "33a5ad6b-bcc7-4226-925c-65839bcad935"
      },
      "source": [
        "print(s_test_1.index)\n",
        "print(s_test_2.index)\n",
        "print(s_test_3.index)\n",
        "#it can be seen that auto indexing and defined indices are printed in different ways."
      ],
      "execution_count": 27,
      "outputs": [
        {
          "output_type": "stream",
          "text": [
            "RangeIndex(start=0, stop=10, step=1)\n",
            "Index(['A', 'B', 'C', 'D', 'E', 'F', 'G', 'H', 'I', 'J'], dtype='object')\n",
            "Int64Index([0, 1, 2, 3, 4], dtype='int64')\n"
          ],
          "name": "stdout"
        }
      ]
    },
    {
      "cell_type": "code",
      "metadata": {
        "id": "_ZOHEKcq2TeM",
        "colab_type": "code",
        "colab": {
          "base_uri": "https://localhost:8080/",
          "height": 585
        },
        "outputId": "c95249fe-4aa0-4e5e-b78e-390538cdbdca"
      },
      "source": [
        "#series is similar to nD array/numpy array\n",
        "print(s_test_1[0])\n",
        "print(s_test_1[2:])\n",
        "print(s_test_1[:5])\n",
        "print(s_test_1[:])\n",
        "print(s_test_1[s_test_1 > s_test_1.mean()])"
      ],
      "execution_count": 34,
      "outputs": [
        {
          "output_type": "stream",
          "text": [
            "-1.5748712523464232\n",
            "2    0.893073\n",
            "3   -0.790712\n",
            "4    0.972108\n",
            "5   -0.558416\n",
            "6   -0.803402\n",
            "7   -1.338986\n",
            "8    0.386394\n",
            "9   -2.587624\n",
            "dtype: float64\n",
            "0   -1.574871\n",
            "1   -1.551165\n",
            "2    0.893073\n",
            "3   -0.790712\n",
            "4    0.972108\n",
            "dtype: float64\n",
            "0   -1.574871\n",
            "1   -1.551165\n",
            "2    0.893073\n",
            "3   -0.790712\n",
            "4    0.972108\n",
            "5   -0.558416\n",
            "6   -0.803402\n",
            "7   -1.338986\n",
            "8    0.386394\n",
            "9   -2.587624\n",
            "dtype: float64\n",
            "2    0.893073\n",
            "4    0.972108\n",
            "5   -0.558416\n",
            "8    0.386394\n",
            "dtype: float64\n"
          ],
          "name": "stdout"
        }
      ]
    },
    {
      "cell_type": "code",
      "metadata": {
        "id": "D9J8V9Xm2yDe",
        "colab_type": "code",
        "colab": {
          "base_uri": "https://localhost:8080/",
          "height": 34
        },
        "outputId": "e4a2672f-7ade-4145-a9c2-1c48f60943d6"
      },
      "source": [
        "#to know the datatype of a series\n",
        "s_test_1.dtype"
      ],
      "execution_count": 32,
      "outputs": [
        {
          "output_type": "execute_result",
          "data": {
            "text/plain": [
              "dtype('float64')"
            ]
          },
          "metadata": {
            "tags": []
          },
          "execution_count": 32
        }
      ]
    },
    {
      "cell_type": "code",
      "metadata": {
        "id": "hJE8q9Sp3MZ9",
        "colab_type": "code",
        "colab": {}
      },
      "source": [
        ""
      ],
      "execution_count": 0,
      "outputs": []
    }
  ]
}