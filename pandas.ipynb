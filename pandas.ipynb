{
  "nbformat": 4,
  "nbformat_minor": 0,
  "metadata": {
    "colab": {
      "name": "pandas.ipynb",
      "provenance": [],
      "collapsed_sections": [],
      "include_colab_link": true
    },
    "kernelspec": {
      "name": "python3",
      "display_name": "Python 3"
    }
  },
  "cells": [
    {
      "cell_type": "markdown",
      "metadata": {
        "id": "view-in-github",
        "colab_type": "text"
      },
      "source": [
        "<a href=\"https://colab.research.google.com/github/aryadeo/pandas/blob/master/pandas.ipynb\" target=\"_parent\"><img src=\"https://colab.research.google.com/assets/colab-badge.svg\" alt=\"Open In Colab\"/></a>"
      ]
    },
    {
      "cell_type": "markdown",
      "metadata": {
        "id": "oWp2L0uvrzK0",
        "colab_type": "text"
      },
      "source": [
        "#Basics of Pandas\n",
        "![Pandas Logo](https://drive.google.com/uc?id=1fn6w_q1O1jvFWQB6JlDQVKa6KG7_BG5A)"
      ]
    },
    {
      "cell_type": "markdown",
      "metadata": {
        "id": "nMQemGcautwr",
        "colab_type": "text"
      },
      "source": [
        "Date: 12/11/2019\n",
        "\n",
        "pandas has two primary data structure.\n",
        "1. Series(for 1D data)\n",
        "2. DataFrame(for 2D data)\n",
        "\n",
        "Data Processing can be done in three ways.\n",
        "1. Data munging and cleaning\n",
        "2. Analyzing and modelling the data\n",
        "3. Organizing for sulitable ploting and visualization"
      ]
    },
    {
      "cell_type": "code",
      "metadata": {
        "id": "4TKcZIJqpuaJ",
        "colab_type": "code",
        "colab": {}
      },
      "source": [
        "!pip install pandas"
      ],
      "execution_count": 0,
      "outputs": []
    },
    {
      "cell_type": "code",
      "metadata": {
        "id": "4GF8fVx_u-UK",
        "colab_type": "code",
        "colab": {}
      },
      "source": [
        ""
      ],
      "execution_count": 0,
      "outputs": []
    }
  ]
}